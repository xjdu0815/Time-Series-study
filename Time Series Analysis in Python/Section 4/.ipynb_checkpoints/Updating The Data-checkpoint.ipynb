{
 "cells": [
  {
   "cell_type": "code",
   "execution_count": 2,
   "metadata": {},
   "outputs": [
    {
     "name": "stdout",
     "output_type": "stream",
     "text": [
      "Collecting yfinance\n",
      "  Downloading https://files.pythonhosted.org/packages/41/ef/38fccb60f9ced16b7e0a51fe8d6c5fb7ab6b7367d4a537f5a97d737294e6/yfinance-0.1.75-py2.py3-none-any.whl\n",
      "Requirement already satisfied: pandas>=0.24.0 in c:\\users\\xdu8\\appdata\\local\\continuum\\anaconda3\\lib\\site-packages (from yfinance) (1.3.0)\n",
      "Requirement already satisfied: requests>=2.26 in c:\\users\\xdu8\\appdata\\local\\continuum\\anaconda3\\lib\\site-packages (from yfinance) (2.27.1)\n",
      "Collecting lxml>=4.5.1 (from yfinance)\n",
      "  Downloading https://files.pythonhosted.org/packages/5b/2a/b29ca0616397e6d5608255cd0f635a6786892fec898eb65fe8aa4347e9c0/lxml-4.9.1-cp37-cp37m-win_amd64.whl (3.6MB)\n",
      "Requirement already satisfied: numpy>=1.15 in c:\\users\\xdu8\\appdata\\local\\continuum\\anaconda3\\lib\\site-packages (from yfinance) (1.21.6)\n",
      "Collecting multitasking>=0.0.7 (from yfinance)\n",
      "  Downloading https://files.pythonhosted.org/packages/3e/8a/bb3160e76e844db9e69a413f055818969c8acade64e1a9ac5ce9dfdcf6c1/multitasking-0.0.11-py3-none-any.whl\n",
      "Requirement already satisfied: appdirs>=1.4.4 in c:\\users\\xdu8\\appdata\\local\\continuum\\anaconda3\\lib\\site-packages (from yfinance) (1.4.4)\n",
      "Requirement already satisfied: python-dateutil>=2.7.3 in c:\\users\\xdu8\\appdata\\local\\continuum\\anaconda3\\lib\\site-packages (from pandas>=0.24.0->yfinance) (2.8.0)\n",
      "Requirement already satisfied: pytz>=2017.3 in c:\\users\\xdu8\\appdata\\local\\continuum\\anaconda3\\lib\\site-packages (from pandas>=0.24.0->yfinance) (2019.1)\n",
      "Requirement already satisfied: certifi>=2017.4.17 in c:\\users\\xdu8\\appdata\\local\\continuum\\anaconda3\\lib\\site-packages (from requests>=2.26->yfinance) (2022.9.14)\n",
      "Requirement already satisfied: urllib3<1.27,>=1.21.1 in c:\\users\\xdu8\\appdata\\local\\continuum\\anaconda3\\lib\\site-packages (from requests>=2.26->yfinance) (1.26.8)\n",
      "Requirement already satisfied: idna<4,>=2.5; python_version >= \"3\" in c:\\users\\xdu8\\appdata\\local\\continuum\\anaconda3\\lib\\site-packages (from requests>=2.26->yfinance) (2.8)\n",
      "Requirement already satisfied: charset-normalizer~=2.0.0; python_version >= \"3\" in c:\\users\\xdu8\\appdata\\local\\continuum\\anaconda3\\lib\\site-packages (from requests>=2.26->yfinance) (2.0.4)\n",
      "Requirement already satisfied: six>=1.5 in c:\\users\\xdu8\\appdata\\local\\continuum\\anaconda3\\lib\\site-packages (from python-dateutil>=2.7.3->pandas>=0.24.0->yfinance) (1.16.0)\n",
      "Installing collected packages: lxml, multitasking, yfinance\n",
      "  Found existing installation: lxml 4.3.4\n",
      "    Uninstalling lxml-4.3.4:\n",
      "      Successfully uninstalled lxml-4.3.4\n",
      "Successfully installed lxml-4.9.1 multitasking-0.0.11 yfinance-0.1.75\n",
      "Note: you may need to restart the kernel to use updated packages.\n"
     ]
    }
   ],
   "source": [
    "pip install yfinance"
   ]
  },
  {
   "cell_type": "code",
   "execution_count": 3,
   "metadata": {},
   "outputs": [
    {
     "name": "stderr",
     "output_type": "stream",
     "text": [
      "C:\\Users\\xdu8\\AppData\\Local\\Continuum\\anaconda3\\lib\\site-packages\\pandas\\compat\\_optional.py:138: UserWarning: Pandas requires version '2.7.0' or newer of 'numexpr' (version '2.6.9' currently installed).\n",
      "  warnings.warn(msg, UserWarning)\n"
     ]
    }
   ],
   "source": [
    "# Importing the necessary package \n",
    "# Make sure to pip install it in Anaconda, if you don't have it\n",
    "import yfinance "
   ]
  },
  {
   "cell_type": "code",
   "execution_count": 4,
   "metadata": {},
   "outputs": [],
   "source": [
    "# Ignoring warning messages\n",
    "import warnings \n",
    "warnings.filterwarnings(\"ignore\")"
   ]
  },
  {
   "cell_type": "code",
   "execution_count": 5,
   "metadata": {},
   "outputs": [
    {
     "name": "stdout",
     "output_type": "stream",
     "text": [
      "[*********************100%***********************]  4 of 4 completed\n"
     ]
    }
   ],
   "source": [
    "# Using the .download() method to get our data\n",
    "\n",
    "raw_data = yfinance.download (tickers = \"^GSPC ^FTSE ^N225 ^GDAXI\", #The time series we are interested in - (in our case, these are the S&P, FTSE, NIKKEI and DAX)\n",
    "                              start = \"1994-01-07\", #The starting date of our data set\n",
    "                              end = \"2019-09-27\", #The ending date of our data set (at the time of upload, this is the current date)\n",
    "                              interval = \"1d\", #The distance in time between two recorded observations. Since we're using daily closing prices, we set it equal to \"1d\", which indicates 1 day. \n",
    "                              group_by = 'ticker', #The way we want to group the scraped data. Usually we want it to be \"ticker\", so that we have all the information about a time series in 1 variable.\n",
    "                              auto_adjust = True, #Automatically adjuss the closing prices for each period. \n",
    "                              treads = True) #Whether to use threads for mass downloading. "
   ]
  },
  {
   "cell_type": "code",
   "execution_count": 6,
   "metadata": {},
   "outputs": [],
   "source": [
    "# Creating a back up copy in case we remove/alter elements of the data by mistake\n",
    "df_comp = raw_data.copy()"
   ]
  },
  {
   "cell_type": "code",
   "execution_count": 7,
   "metadata": {},
   "outputs": [],
   "source": [
    "# Adding new columns to the data set\n",
    "df_comp['spx'] = df_comp['^GSPC'].Close\n",
    "df_comp['dax'] = df_comp['^GDAXI'].Close\n",
    "df_comp['ftse'] = df_comp['^FTSE'].Close\n",
    "df_comp['nikkei'] = df_comp['^N225'].Close"
   ]
  },
  {
   "cell_type": "code",
   "execution_count": 8,
   "metadata": {
    "scrolled": true
   },
   "outputs": [],
   "source": [
    "df_comp = df_comp.iloc[1:] # Removing the first elements, since we always start 1 period before the first, due to time zone differences of closing prices\n",
    "del df_comp['^N225']  # Removing the original tickers of the data set\n",
    "del df_comp['^GSPC']\n",
    "del df_comp['^GDAXI']\n",
    "del df_comp['^FTSE']\n",
    "df_comp=df_comp.asfreq('b') # Setting the frequency of the data\n",
    "df_comp=df_comp.fillna(method='ffill') # Filling any missing values"
   ]
  },
  {
   "cell_type": "code",
   "execution_count": 9,
   "metadata": {},
   "outputs": [
    {
     "name": "stdout",
     "output_type": "stream",
     "text": [
      "                          spx          dax ftse nikkei\n",
      "                                                      \n",
      "Date                                                  \n",
      "1994-01-06 23:00:00+00:00 NaN  2224.949951  NaN    NaN\n",
      "1994-01-07 23:00:00+00:00 NaN  2224.949951  NaN    NaN\n",
      "1994-01-10 23:00:00+00:00 NaN  2228.100098  NaN    NaN\n",
      "1994-01-11 23:00:00+00:00 NaN  2182.060059  NaN    NaN\n",
      "1994-01-12 23:00:00+00:00 NaN  2142.370117  NaN    NaN\n",
      "                          spx           dax         ftse nikkei\n",
      "                                                               \n",
      "Date                                                           \n",
      "2019-09-19 23:00:00+00:00 NaN  11526.040039  7344.899902    NaN\n",
      "2019-09-20 23:00:00+00:00 NaN  11526.040039  7344.899902    NaN\n",
      "2019-09-23 23:00:00+00:00 NaN  11526.040039  7291.399902    NaN\n",
      "2019-09-24 23:00:00+00:00 NaN  11526.040039  7290.000000    NaN\n",
      "2019-09-25 23:00:00+00:00 NaN  11526.040039  7351.100098    NaN\n"
     ]
    }
   ],
   "source": [
    "print (df_comp.head()) # Displaying the first 5 elements to make sure the data was scrapped correctly\n",
    "print (df_comp.tail()) # Making sure of the last day we're including in the series"
   ]
  },
  {
   "cell_type": "code",
   "execution_count": null,
   "metadata": {},
   "outputs": [],
   "source": []
  }
 ],
 "metadata": {
  "kernelspec": {
   "display_name": "Python 3",
   "language": "python",
   "name": "python3"
  },
  "language_info": {
   "codemirror_mode": {
    "name": "ipython",
    "version": 3
   },
   "file_extension": ".py",
   "mimetype": "text/x-python",
   "name": "python",
   "nbconvert_exporter": "python",
   "pygments_lexer": "ipython3",
   "version": "3.7.3"
  }
 },
 "nbformat": 4,
 "nbformat_minor": 2
}
